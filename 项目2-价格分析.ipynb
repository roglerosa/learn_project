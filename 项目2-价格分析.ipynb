{
 "cells": [
  {
   "metadata": {},
   "cell_type": "raw",
   "source": "#参考项目2-参考，使用源数据：项目2价格数据.csv，绘制\n",
   "id": "97645d497d2b2473"
  }
 ],
 "metadata": {
  "kernelspec": {
   "display_name": "Python 3",
   "language": "python",
   "name": "python3"
  },
  "language_info": {
   "codemirror_mode": {
    "name": "ipython",
    "version": 2
   },
   "file_extension": ".py",
   "mimetype": "text/x-python",
   "name": "python",
   "nbconvert_exporter": "python",
   "pygments_lexer": "ipython2",
   "version": "2.7.6"
  }
 },
 "nbformat": 4,
 "nbformat_minor": 5
}
