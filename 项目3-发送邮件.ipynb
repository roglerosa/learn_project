{
 "cells": [
  {
   "metadata": {},
   "cell_type": "markdown",
   "source": [
    "#参考项目3-参考，使用python在一个发送一封邮件。\n",
    "#要求邮件的标题为：测试邮件，正文内容为：这是一封测试邮件，正文包含项目2生成的五个品类的五张图片，附件为：项目2价格数据.csv。邮件收件人为叶庆文，抄送人为段洋。"
   ],
   "id": "e6e2b614f7bba75e"
  }
 ],
 "metadata": {
  "kernelspec": {
   "display_name": "Python 3",
   "language": "python",
   "name": "python3"
  },
  "language_info": {
   "codemirror_mode": {
    "name": "ipython",
    "version": 2
   },
   "file_extension": ".py",
   "mimetype": "text/x-python",
   "name": "python",
   "nbconvert_exporter": "python",
   "pygments_lexer": "ipython2",
   "version": "2.7.6"
  }
 },
 "nbformat": 4,
 "nbformat_minor": 5
}
