{
 "cells": [
  {
   "metadata": {
    "ExecuteTime": {
     "end_time": "2025-08-05T07:16:32.305575Z",
     "start_time": "2025-08-05T07:16:30.623132Z"
    }
   },
   "cell_type": "code",
   "source": [
    "import pandas as pd\n",
    "import pymysql\n",
    "import openpyxl\n",
    "from openpyxl.styles import PatternFill, Border, Side, Font, Alignment\n",
    "from datetime import datetime"
   ],
   "id": "a44dc742cc444a23",
   "outputs": [],
   "execution_count": 1
  },
  {
   "cell_type": "code",
   "id": "initial_id",
   "metadata": {
    "collapsed": true,
    "ExecuteTime": {
     "end_time": "2025-08-05T07:27:09.618672Z",
     "start_time": "2025-08-05T07:27:09.605025Z"
    }
   },
   "source": [
    "def send_report_mail(to_list, cc_list, content_text, attach=None, title=None):\n",
    "    import smtplib\n",
    "    from email.mime.multipart import MIMEMultipart\n",
    "    from email.mime.text import MIMEText\n",
    "    from email.utils import formataddr\n",
    "    import logging\n",
    "    import datetime\n",
    "\n",
    "    from email.mime.image import MIMEImage\n",
    "\n",
    "    from email.header import Header\n",
    "    from email.mime.base import MIMEBase\n",
    "    from email import encoders\n",
    "\n",
    "    def addimg(src, imgid):\n",
    "        fp = open(src, 'rb')\n",
    "        msgImage = MIMEImage(fp.read())\n",
    "        fp.close()\n",
    "        msgImage.add_header('Content-ID', imgid)\n",
    "        return msgImage\n",
    "\n",
    "    mail_host = \"smtp.exmail.qq.com\"\n",
    "    mail_user = \"report@iplas.com.cn\"\n",
    "    mail_pass = ''\n",
    "\n",
    "    if title is None:\n",
    "        sub = datetime.datetime.strftime(datetime.datetime.now(), \"%Y%m%d\") + \"无标题\"\n",
    "    else:\n",
    "        sub = title\n",
    "\n",
    "    content_html = f\"\"\"<html lang=\"en\">\n",
    "        <head>\n",
    "            <meta charset=\"UTF-8\">\n",
    "            <title>{sub}</title>\n",
    "        </head>\n",
    "        <body>\n",
    "            <div class=\"content\">\n",
    "            \"\"\"\n",
    "\n",
    "    content_html += f\"\"\"\n",
    "                <p>{content_text}</p>\n",
    "                \"\"\"\n",
    "\n",
    "    content_html += f'<p><br><img src=\"cid:image\"></p>'\n",
    "\n",
    "    content_html += \"\"\"\n",
    "            </div>\n",
    "        </body>\n",
    "        <style>\n",
    "            .content{{padding: 0 20px;}}\n",
    "            h3{{font-size: 17px; margin: 30px 0;}}\n",
    "            h3, h4{{font-weight: normal;}}\n",
    "            .red-text{{color: red;}}\n",
    "            .bold-font{{font-weight: bold;}}\n",
    "            .line-text p{{margin: 7px 0;}}\n",
    "        </style>\n",
    "    </html>\n",
    "    \"\"\"\n",
    "\n",
    "    msg = MIMEMultipart()\n",
    "    msg['From'] = formataddr(pair=(\"互联网管理中心智能报表平台\", mail_user))\n",
    "    msg['To'] = ';'.join(to_list)\n",
    "    msg['Cc'] = ';'.join(cc_list)\n",
    "    msg['Subject'] = sub\n",
    "    msg.attach(MIMEText(content_html, 'html', 'utf-8'))\n",
    "    msg[\"Accept-Language\"] = \"zh-CN\"\n",
    "    msg[\"Accept-Charset\"] = \"ISO-8859-1,utf-8\"\n",
    "    msg.attach(addimg(f'HDPE中空料.png', \"image\"))\n",
    "\n",
    "    if attach is not None:\n",
    "        with open(attach, 'rb') as f:\n",
    "            appendix = MIMEBase('application', 'octet-stream')\n",
    "            appendix.set_payload(f.read())\n",
    "            encoders.encode_base64(appendix)\n",
    "            filename = attach.split('/')[-1]\n",
    "            appendix.add_header('Content-Disposition', 'attachment',\n",
    "                                filename=('gbk', '', filename))\n",
    "            msg.attach(appendix)\n",
    "\n",
    "    try:\n",
    "        s = smtplib.SMTP()\n",
    "        s.connect(mail_host)\n",
    "        s.login(mail_user, mail_pass)\n",
    "        s.sendmail(mail_user, to_list + cc_list, msg.as_string())\n",
    "        s.close()\n",
    "        logging.info(f\"收件人：{to_list}，抄送人：{cc_list}，邮件主题：{sub}，邮件正文：{content_text},已发送\")\n",
    "    except Exception as e:\n",
    "        logging.error(e)\n",
    "\n"
   ],
   "outputs": [],
   "execution_count": 4
  },
  {
   "metadata": {
    "ExecuteTime": {
     "end_time": "2025-08-05T07:27:14.835881Z",
     "start_time": "2025-08-05T07:27:11.335745Z"
    }
   },
   "cell_type": "code",
   "source": [
    "\n",
    "send_report_mail([\"duanyang@iplas.com.cn\"],[\"duanyang@iplas.com.cn\"], content_text=None,title=None,attach=None)"
   ],
   "id": "4b724cf150055967",
   "outputs": [],
   "execution_count": 5
  },
  {
   "metadata": {},
   "cell_type": "code",
   "outputs": [],
   "execution_count": null,
   "source": "",
   "id": "a16f24d2448d2155"
  }
 ],
 "metadata": {
  "kernelspec": {
   "display_name": "Python 3",
   "language": "python",
   "name": "python3"
  },
  "language_info": {
   "codemirror_mode": {
    "name": "ipython",
    "version": 2
   },
   "file_extension": ".py",
   "mimetype": "text/x-python",
   "name": "python",
   "nbconvert_exporter": "python",
   "pygments_lexer": "ipython2",
   "version": "2.7.6"
  }
 },
 "nbformat": 4,
 "nbformat_minor": 5
}
